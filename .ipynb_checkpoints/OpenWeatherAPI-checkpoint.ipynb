{
 "cells": [
  {
   "cell_type": "markdown",
   "metadata": {},
   "source": [
    "Open Weather Map API"
   ]
  },
  {
   "cell_type": "code",
   "execution_count": 1,
   "metadata": {},
   "outputs": [],
   "source": [
    "from jupyterthemes import jtplot\n",
    "from citipy import citipy\n",
    "import matplotlib.pyplot as plt\n",
    "import pandas as pd\n",
    "import numpy as np\n",
    "import seaborn as sns\n",
    "import requests\n",
    "import time\n",
    "import urllib"
   ]
  },
  {
   "cell_type": "code",
   "execution_count": 19,
   "metadata": {
    "scrolled": true
   },
   "outputs": [
    {
     "data": {
      "text/plain": [
       "50"
      ]
     },
     "execution_count": 19,
     "metadata": {},
     "output_type": "execute_result"
    }
   ],
   "source": [
    "lat_range = (-90, 90)\n",
    "lon_range = (-180, -180)\n",
    "\n",
    "lat_lons = []\n",
    "cities = []\n",
    "\n",
    "#Random lat and long combinations\n",
    "lats = np.random.uniform(low=-90.000, high=90.000, size=1500)\n",
    "lons = np.random.uniform(low=-180.000, high=180.000, size=1500)\n",
    "lat_lons = zip(lats, lons)\n",
    "count_limit = 0\n",
    "\n",
    "for lat_lon in lat_lons:\n",
    "    city = citipy.nearest_city(lat_lon[0], lat_lon[1])\n",
    "    city = city.city_name\n",
    "    \n",
    "    #Unique city, add to cities list\n",
    "    if city not in cities:\n",
    "        #limiting to only 50 cities\n",
    "        if count_limit < 50:\n",
    "            #title capitalizes the cities\n",
    "            cities.append(city.title())\n",
    "            count_limit += 1\n",
    "        else:\n",
    "            break\n",
    "len(cities)\n"
   ]
  },
  {
   "cell_type": "code",
   "execution_count": 3,
   "metadata": {
    "scrolled": true
   },
   "outputs": [
    {
     "name": "stdout",
     "output_type": "stream",
     "text": [
      "1: City: Ambon\n",
      "http://api.openweathermap.org/data/2.5/weather?units=Imperial&APPID=64c31beb856520cc86ae3221ce851cdd&q=Ambon\n",
      "2: City: Dombas\n",
      "http://api.openweathermap.org/data/2.5/weather?units=Imperial&APPID=64c31beb856520cc86ae3221ce851cdd&q=Dombas\n",
      "3: City: Carnarvon\n",
      "http://api.openweathermap.org/data/2.5/weather?units=Imperial&APPID=64c31beb856520cc86ae3221ce851cdd&q=Carnarvon\n",
      "4: City: Port Alfred\n",
      "http://api.openweathermap.org/data/2.5/weather?units=Imperial&APPID=64c31beb856520cc86ae3221ce851cdd&q=Port%20Alfred\n",
      "5: City: Hilo\n",
      "http://api.openweathermap.org/data/2.5/weather?units=Imperial&APPID=64c31beb856520cc86ae3221ce851cdd&q=Hilo\n",
      "6: City: Barentsburg\n",
      "http://api.openweathermap.org/data/2.5/weather?units=Imperial&APPID=64c31beb856520cc86ae3221ce851cdd&q=Barentsburg\n",
      "7: City: Chitral\n",
      "http://api.openweathermap.org/data/2.5/weather?units=Imperial&APPID=64c31beb856520cc86ae3221ce851cdd&q=Chitral\n",
      "8: City: Mataura\n",
      "http://api.openweathermap.org/data/2.5/weather?units=Imperial&APPID=64c31beb856520cc86ae3221ce851cdd&q=Mataura\n",
      "9: City: Qaanaaq\n",
      "http://api.openweathermap.org/data/2.5/weather?units=Imperial&APPID=64c31beb856520cc86ae3221ce851cdd&q=Qaanaaq\n",
      "10: City: Busselton\n",
      "http://api.openweathermap.org/data/2.5/weather?units=Imperial&APPID=64c31beb856520cc86ae3221ce851cdd&q=Busselton\n",
      "11: City: Nizhneyansk\n",
      "http://api.openweathermap.org/data/2.5/weather?units=Imperial&APPID=64c31beb856520cc86ae3221ce851cdd&q=Nizhneyansk\n",
      "12: City: Harper\n",
      "http://api.openweathermap.org/data/2.5/weather?units=Imperial&APPID=64c31beb856520cc86ae3221ce851cdd&q=Harper\n",
      "13: City: Souillac\n",
      "http://api.openweathermap.org/data/2.5/weather?units=Imperial&APPID=64c31beb856520cc86ae3221ce851cdd&q=Souillac\n",
      "14: City: Shache\n",
      "http://api.openweathermap.org/data/2.5/weather?units=Imperial&APPID=64c31beb856520cc86ae3221ce851cdd&q=Shache\n",
      "15: City: Gaurnadi\n",
      "http://api.openweathermap.org/data/2.5/weather?units=Imperial&APPID=64c31beb856520cc86ae3221ce851cdd&q=Gaurnadi\n",
      "16: City: Taolanaro\n",
      "http://api.openweathermap.org/data/2.5/weather?units=Imperial&APPID=64c31beb856520cc86ae3221ce851cdd&q=Taolanaro\n",
      "17: City: Necochea\n",
      "http://api.openweathermap.org/data/2.5/weather?units=Imperial&APPID=64c31beb856520cc86ae3221ce851cdd&q=Necochea\n",
      "18: City: Mataura\n",
      "http://api.openweathermap.org/data/2.5/weather?units=Imperial&APPID=64c31beb856520cc86ae3221ce851cdd&q=Mataura\n",
      "19: City: Puerto Ayora\n",
      "http://api.openweathermap.org/data/2.5/weather?units=Imperial&APPID=64c31beb856520cc86ae3221ce851cdd&q=Puerto%20Ayora\n",
      "20: City: Lodja\n",
      "http://api.openweathermap.org/data/2.5/weather?units=Imperial&APPID=64c31beb856520cc86ae3221ce851cdd&q=Lodja\n",
      "21: City: Rikitea\n",
      "http://api.openweathermap.org/data/2.5/weather?units=Imperial&APPID=64c31beb856520cc86ae3221ce851cdd&q=Rikitea\n",
      "22: City: Mattru\n",
      "http://api.openweathermap.org/data/2.5/weather?units=Imperial&APPID=64c31beb856520cc86ae3221ce851cdd&q=Mattru\n",
      "23: City: Victoria\n",
      "http://api.openweathermap.org/data/2.5/weather?units=Imperial&APPID=64c31beb856520cc86ae3221ce851cdd&q=Victoria\n",
      "24: City: New Norfolk\n",
      "http://api.openweathermap.org/data/2.5/weather?units=Imperial&APPID=64c31beb856520cc86ae3221ce851cdd&q=New%20Norfolk\n",
      "25: City: Victoria\n",
      "http://api.openweathermap.org/data/2.5/weather?units=Imperial&APPID=64c31beb856520cc86ae3221ce851cdd&q=Victoria\n",
      "26: City: Glace Bay\n",
      "http://api.openweathermap.org/data/2.5/weather?units=Imperial&APPID=64c31beb856520cc86ae3221ce851cdd&q=Glace%20Bay\n",
      "27: City: Umm Kaddadah\n",
      "http://api.openweathermap.org/data/2.5/weather?units=Imperial&APPID=64c31beb856520cc86ae3221ce851cdd&q=Umm%20Kaddadah\n",
      "28: City: Constitucion\n",
      "http://api.openweathermap.org/data/2.5/weather?units=Imperial&APPID=64c31beb856520cc86ae3221ce851cdd&q=Constitucion\n",
      "29: City: Busselton\n",
      "http://api.openweathermap.org/data/2.5/weather?units=Imperial&APPID=64c31beb856520cc86ae3221ce851cdd&q=Busselton\n",
      "30: City: Bredasdorp\n",
      "http://api.openweathermap.org/data/2.5/weather?units=Imperial&APPID=64c31beb856520cc86ae3221ce851cdd&q=Bredasdorp\n",
      "31: City: Belushya Guba\n",
      "http://api.openweathermap.org/data/2.5/weather?units=Imperial&APPID=64c31beb856520cc86ae3221ce851cdd&q=Belushya%20Guba\n",
      "32: City: Marcona\n",
      "http://api.openweathermap.org/data/2.5/weather?units=Imperial&APPID=64c31beb856520cc86ae3221ce851cdd&q=Marcona\n",
      "33: City: Ostra Luka\n",
      "http://api.openweathermap.org/data/2.5/weather?units=Imperial&APPID=64c31beb856520cc86ae3221ce851cdd&q=Ostra%20Luka\n",
      "34: City: Sentyabrskiy\n",
      "http://api.openweathermap.org/data/2.5/weather?units=Imperial&APPID=64c31beb856520cc86ae3221ce851cdd&q=Sentyabrskiy\n",
      "35: City: Nhulunbuy\n",
      "http://api.openweathermap.org/data/2.5/weather?units=Imperial&APPID=64c31beb856520cc86ae3221ce851cdd&q=Nhulunbuy\n",
      "36: City: Prince George\n",
      "http://api.openweathermap.org/data/2.5/weather?units=Imperial&APPID=64c31beb856520cc86ae3221ce851cdd&q=Prince%20George\n",
      "37: City: Dingle\n",
      "http://api.openweathermap.org/data/2.5/weather?units=Imperial&APPID=64c31beb856520cc86ae3221ce851cdd&q=Dingle\n",
      "38: City: Hilo\n",
      "http://api.openweathermap.org/data/2.5/weather?units=Imperial&APPID=64c31beb856520cc86ae3221ce851cdd&q=Hilo\n",
      "39: City: Ushuaia\n",
      "http://api.openweathermap.org/data/2.5/weather?units=Imperial&APPID=64c31beb856520cc86ae3221ce851cdd&q=Ushuaia\n",
      "40: City: Mataura\n",
      "http://api.openweathermap.org/data/2.5/weather?units=Imperial&APPID=64c31beb856520cc86ae3221ce851cdd&q=Mataura\n",
      "41: City: Kununurra\n",
      "http://api.openweathermap.org/data/2.5/weather?units=Imperial&APPID=64c31beb856520cc86ae3221ce851cdd&q=Kununurra\n",
      "42: City: Yellowknife\n",
      "http://api.openweathermap.org/data/2.5/weather?units=Imperial&APPID=64c31beb856520cc86ae3221ce851cdd&q=Yellowknife\n",
      "43: City: San Francisco\n",
      "http://api.openweathermap.org/data/2.5/weather?units=Imperial&APPID=64c31beb856520cc86ae3221ce851cdd&q=San%20Francisco\n",
      "44: City: Mataura\n",
      "http://api.openweathermap.org/data/2.5/weather?units=Imperial&APPID=64c31beb856520cc86ae3221ce851cdd&q=Mataura\n",
      "45: City: New Norfolk\n",
      "http://api.openweathermap.org/data/2.5/weather?units=Imperial&APPID=64c31beb856520cc86ae3221ce851cdd&q=New%20Norfolk\n",
      "46: City: Pevek\n",
      "http://api.openweathermap.org/data/2.5/weather?units=Imperial&APPID=64c31beb856520cc86ae3221ce851cdd&q=Pevek\n",
      "47: City: Lebu\n",
      "http://api.openweathermap.org/data/2.5/weather?units=Imperial&APPID=64c31beb856520cc86ae3221ce851cdd&q=Lebu\n",
      "48: City: Olafsvik\n",
      "http://api.openweathermap.org/data/2.5/weather?units=Imperial&APPID=64c31beb856520cc86ae3221ce851cdd&q=Olafsvik\n",
      "49: City: Belushya Guba\n",
      "http://api.openweathermap.org/data/2.5/weather?units=Imperial&APPID=64c31beb856520cc86ae3221ce851cdd&q=Belushya%20Guba\n",
      "50: City: Hilo\n",
      "http://api.openweathermap.org/data/2.5/weather?units=Imperial&APPID=64c31beb856520cc86ae3221ce851cdd&q=Hilo\n",
      "[{'City': 'Ambon', 'Lat': 47.55, 'Lng': -2.56, 'Max Temp': 48.2, 'Humidity': 70, 'Cloudiness': 0, 'Wind Speed': 12.75, 'Country': 'FR', 'Date': 1514842200}, {'City': 'Dombas', 'Lat': 62.07, 'Lng': 9.12, 'Max Temp': 10.99, 'Humidity': 78, 'Cloudiness': 80, 'Wind Speed': 1.88, 'Country': 'NO', 'Date': 1514843158}, {'City': 'Carnarvon', 'Lat': -30.97, 'Lng': 22.13, 'Max Temp': 56.53, 'Humidity': 30, 'Cloudiness': 0, 'Wind Speed': 9.04, 'Country': 'ZA', 'Date': 1514843158}, {'City': 'Port Alfred', 'Lat': -33.59, 'Lng': 26.89, 'Max Temp': 66.34, 'Humidity': 84, 'Cloudiness': 24, 'Wind Speed': 23.02, 'Country': 'ZA', 'Date': 1514843159}, {'City': 'Hilo', 'Lat': 19.71, 'Lng': -155.08, 'Max Temp': 77, 'Humidity': 61, 'Cloudiness': 90, 'Wind Speed': 6.93, 'Country': 'US', 'Date': 1514840160}, {'City': 'Chitral', 'Lat': 35.85, 'Lng': 71.79, 'Max Temp': -10.48, 'Humidity': 57, 'Cloudiness': 0, 'Wind Speed': 0.98, 'Country': 'PK', 'Date': 1514843160}, {'City': 'Mataura', 'Lat': -46.19, 'Lng': 168.86, 'Max Temp': 66.29, 'Humidity': 64, 'Cloudiness': 12, 'Wind Speed': 4.56, 'Country': 'NZ', 'Date': 1514843161}, {'City': 'Qaanaaq', 'Lat': 77.48, 'Lng': -69.36, 'Max Temp': -7.51, 'Humidity': 100, 'Cloudiness': 64, 'Wind Speed': 6.8, 'Country': 'GL', 'Date': 1514843161}, {'City': 'Busselton', 'Lat': -33.64, 'Lng': 115.35, 'Max Temp': 64.72, 'Humidity': 100, 'Cloudiness': 0, 'Wind Speed': 15.64, 'Country': 'AU', 'Date': 1514843162}, {'City': 'Harper', 'Lat': 30.3, 'Lng': -99.24, 'Max Temp': 24.8, 'Humidity': 62, 'Cloudiness': 90, 'Wind Speed': 6.93, 'Country': 'US', 'Date': 1514841300}, {'City': 'Souillac', 'Lat': 45.6, 'Lng': -0.6, 'Max Temp': 48.2, 'Humidity': 81, 'Cloudiness': 75, 'Wind Speed': 6.93, 'Country': 'FR', 'Date': 1514842200}, {'City': 'Shache', 'Lat': 38.42, 'Lng': 77.24, 'Max Temp': 16.03, 'Humidity': 78, 'Cloudiness': 24, 'Wind Speed': 3.67, 'Country': 'CN', 'Date': 1514843164}, {'City': 'Gaurnadi', 'Lat': 22.97, 'Lng': 90.23, 'Max Temp': 57.97, 'Humidity': 88, 'Cloudiness': 20, 'Wind Speed': 1.99, 'Country': 'BD', 'Date': 1514843165}, {'City': 'Necochea', 'Lat': -38.55, 'Lng': -58.74, 'Max Temp': 83.12, 'Humidity': 42, 'Cloudiness': 48, 'Wind Speed': 4.68, 'Country': 'AR', 'Date': 1514843166}, {'City': 'Mataura', 'Lat': -46.19, 'Lng': 168.86, 'Max Temp': 66.29, 'Humidity': 64, 'Cloudiness': 12, 'Wind Speed': 4.56, 'Country': 'NZ', 'Date': 1514843161}, {'City': 'Puerto Ayora', 'Lat': -0.74, 'Lng': -90.35, 'Max Temp': 80.6, 'Humidity': 61, 'Cloudiness': 20, 'Wind Speed': 17.22, 'Country': 'EC', 'Date': 1514840400}, {'City': 'Lodja', 'Lat': -3.52, 'Lng': 23.6, 'Max Temp': 68.95, 'Humidity': 97, 'Cloudiness': 92, 'Wind Speed': 2.44, 'Country': 'CD', 'Date': 1514843168}, {'City': 'Rikitea', 'Lat': -23.12, 'Lng': -134.97, 'Max Temp': 77.14, 'Humidity': 100, 'Cloudiness': 80, 'Wind Speed': 10.71, 'Country': 'PF', 'Date': 1514843168}, {'City': 'Mattru', 'Lat': 7.62, 'Lng': -11.83, 'Max Temp': 81.77, 'Humidity': 45, 'Cloudiness': 8, 'Wind Speed': 4.9, 'Country': 'SL', 'Date': 1514843169}, {'City': 'Victoria', 'Lat': 5.28, 'Lng': 115.24, 'Max Temp': 80.6, 'Humidity': 83, 'Cloudiness': 75, 'Wind Speed': 8.05, 'Country': 'BN', 'Date': 1514842200}, {'City': 'New Norfolk', 'Lat': -42.78, 'Lng': 147.06, 'Max Temp': 57.2, 'Humidity': 62, 'Cloudiness': 75, 'Wind Speed': 7.25, 'Country': 'AU', 'Date': 1514840400}, {'City': 'Victoria', 'Lat': 5.28, 'Lng': 115.24, 'Max Temp': 80.6, 'Humidity': 83, 'Cloudiness': 75, 'Wind Speed': 8.05, 'Country': 'BN', 'Date': 1514842200}, {'City': 'Glace Bay', 'Lat': 46.2, 'Lng': -59.96, 'Max Temp': 17.6, 'Humidity': 85, 'Cloudiness': 40, 'Wind Speed': 11.41, 'Country': 'CA', 'Date': 1514840400}, {'City': 'Umm Kaddadah', 'Lat': 13.6, 'Lng': 26.69, 'Max Temp': 55.72, 'Humidity': 34, 'Cloudiness': 0, 'Wind Speed': 13.29, 'Country': 'SD', 'Date': 1514843171}, {'City': 'Constitucion', 'Lat': 23.99, 'Lng': -104.67, 'Max Temp': 69.8, 'Humidity': 40, 'Cloudiness': 40, 'Wind Speed': 9.17, 'Country': 'MX', 'Date': 1514839320}, {'City': 'Busselton', 'Lat': -33.64, 'Lng': 115.35, 'Max Temp': 64.72, 'Humidity': 100, 'Cloudiness': 0, 'Wind Speed': 15.64, 'Country': 'AU', 'Date': 1514843162}, {'City': 'Bredasdorp', 'Lat': -34.53, 'Lng': 20.04, 'Max Temp': 62.6, 'Humidity': 67, 'Cloudiness': 92, 'Wind Speed': 4.7, 'Country': 'ZA', 'Date': 1514840400}, {'City': 'Ostra Luka', 'Lat': 45, 'Lng': 18.59, 'Max Temp': 42.8, 'Humidity': 87, 'Cloudiness': 0, 'Wind Speed': 3.36, 'Country': 'BA', 'Date': 1514842200}, {'City': 'Nhulunbuy', 'Lat': -12.18, 'Lng': 136.78, 'Max Temp': 80.6, 'Humidity': 88, 'Cloudiness': 0, 'Wind Speed': 8.37, 'Country': 'AU', 'Date': 1514840400}, {'City': 'Prince George', 'Lat': 53.92, 'Lng': -122.75, 'Max Temp': 14, 'Humidity': 78, 'Cloudiness': 1, 'Wind Speed': 4.7, 'Country': 'CA', 'Date': 1514840400}, {'City': 'Dingle', 'Lat': 11, 'Lng': 122.67, 'Max Temp': 74.35, 'Humidity': 97, 'Cloudiness': 92, 'Wind Speed': 18.99, 'Country': 'PH', 'Date': 1514843177}, {'City': 'Hilo', 'Lat': 19.71, 'Lng': -155.08, 'Max Temp': 77, 'Humidity': 61, 'Cloudiness': 90, 'Wind Speed': 6.93, 'Country': 'US', 'Date': 1514840160}, {'City': 'Ushuaia', 'Lat': -54.81, 'Lng': -68.31, 'Max Temp': 48.2, 'Humidity': 61, 'Cloudiness': 75, 'Wind Speed': 16.11, 'Country': 'AR', 'Date': 1514840400}, {'City': 'Mataura', 'Lat': -46.19, 'Lng': 168.86, 'Max Temp': 66.29, 'Humidity': 64, 'Cloudiness': 12, 'Wind Speed': 4.56, 'Country': 'NZ', 'Date': 1514843161}, {'City': 'Kununurra', 'Lat': -15.77, 'Lng': 128.74, 'Max Temp': 78.8, 'Humidity': 83, 'Cloudiness': 0, 'Wind Speed': 5.82, 'Country': 'AU', 'Date': 1514840400}, {'City': 'Yellowknife', 'Lat': 62.45, 'Lng': -114.38, 'Max Temp': -14.81, 'Humidity': 75, 'Cloudiness': 75, 'Wind Speed': 10.29, 'Country': 'CA', 'Date': 1514840400}, {'City': 'San Francisco', 'Lat': 37.78, 'Lng': -122.42, 'Max Temp': 64.4, 'Humidity': 55, 'Cloudiness': 1, 'Wind Speed': 4.7, 'Country': 'US', 'Date': 1514842560}, {'City': 'Mataura', 'Lat': -46.19, 'Lng': 168.86, 'Max Temp': 66.29, 'Humidity': 64, 'Cloudiness': 12, 'Wind Speed': 4.56, 'Country': 'NZ', 'Date': 1514843161}, {'City': 'New Norfolk', 'Lat': -42.78, 'Lng': 147.06, 'Max Temp': 57.2, 'Humidity': 62, 'Cloudiness': 75, 'Wind Speed': 7.25, 'Country': 'AU', 'Date': 1514840400}, {'City': 'Pevek', 'Lat': 69.7, 'Lng': 170.27, 'Max Temp': -20.52, 'Humidity': 90, 'Cloudiness': 8, 'Wind Speed': 1.43, 'Country': 'RU', 'Date': 1514843180}, {'City': 'Lebu', 'Lat': 8.96, 'Lng': 38.73, 'Max Temp': 36.82, 'Humidity': 80, 'Cloudiness': 0, 'Wind Speed': 2.66, 'Country': 'ET', 'Date': 1514843180}, {'City': 'Hilo', 'Lat': 19.71, 'Lng': -155.08, 'Max Temp': 77, 'Humidity': 61, 'Cloudiness': 90, 'Wind Speed': 6.93, 'Country': 'US', 'Date': 1514840160}]\n"
     ]
    }
   ],
   "source": [
    "api_key = \"64c31beb856520cc86ae3221ce851cdd\"\n",
    "url = \"http://api.openweathermap.org/data/2.5/weather?units=Imperial&APPID=\" + api_key\n",
    "\n",
    "city_data = []\n",
    "city_count = 1\n",
    "\n",
    "#loop through all cities with count enumerate\n",
    "for city in cities:\n",
    "    city_url = url + \"&q=\" + urllib.request.pathname2url(city)  \n",
    "    print (\"{}: City: {}\".format(city_count, city))\n",
    "    print (city_url)\n",
    "    city_count += 1    \n",
    "        #Running API request for each cities\n",
    "    try:\n",
    "        # Parse the JSON and retrieve data\n",
    "        city_weather = requests.get(city_url).json()\n",
    "        # Parse out the max temp, humidity, and cloudiness\n",
    "        city_lat = city_weather[\"coord\"][\"lat\"]\n",
    "        city_lon = city_weather[\"coord\"][\"lon\"]\n",
    "        city_max_temp = city_weather[\"main\"][\"temp_max\"]\n",
    "        city_humidity = city_weather[\"main\"][\"humidity\"]\n",
    "        city_clouds = city_weather[\"clouds\"][\"all\"]\n",
    "        city_wind = city_weather[\"wind\"][\"speed\"]\n",
    "        city_country = city_weather[\"sys\"][\"country\"]\n",
    "        city_date = city_weather[\"dt\"]\n",
    "\n",
    "        # Append the City information into city_data list\n",
    "        city_data.append({\"City\": city,\n",
    "                          \"Lat\": city_lat,\n",
    "                          \"Lng\": city_lon,\n",
    "                          \"Max Temp\": city_max_temp,\n",
    "                          \"Humidity\": city_humidity,\n",
    "                          \"Cloudiness\": city_clouds,\n",
    "                          \"Wind Speed\": city_wind,\n",
    "                          \"Country\": city_country,\n",
    "                          \"Date\": city_date})\n",
    "\n",
    "    # If error, skip the city\n",
    "    except:\n",
    "        pass"
   ]
  },
  {
   "cell_type": "code",
   "execution_count": 4,
   "metadata": {},
   "outputs": [
    {
     "data": {
      "text/plain": [
       "City          42\n",
       "Cloudiness    42\n",
       "Country       42\n",
       "Date          42\n",
       "Humidity      42\n",
       "Lat           42\n",
       "Lng           42\n",
       "Max Temp      42\n",
       "Wind Speed    42\n",
       "dtype: int64"
      ]
     },
     "execution_count": 4,
     "metadata": {},
     "output_type": "execute_result"
    }
   ],
   "source": [
    "#Converting data to Pandas DataFrame\n",
    "city_dataframe = pd.DataFrame(city_data)\n",
    "\n",
    "#Extracting fields from DF\n",
    "lats = city_dataframe[\"Lat\"]\n",
    "max_temp = city_dataframe[\"Max Temp\"]\n",
    "humidity = city_dataframe[\"Humidity\"]\n",
    "cloudiness = city_dataframe[\"Cloudiness\"]\n",
    "wind_speed = city_dataframe[\"Wind Speed\"]\n",
    "\n",
    "#Saving/Export the City Data to CSV\n",
    "city_dataframe.to_csv(\"weather_py_df.csv\",index=False)\n",
    "\n",
    "city_dataframe.count()"
   ]
  },
  {
   "cell_type": "code",
   "execution_count": 5,
   "metadata": {},
   "outputs": [
    {
     "data": {
      "text/html": [
       "<div>\n",
       "<style>\n",
       "    .dataframe thead tr:only-child th {\n",
       "        text-align: right;\n",
       "    }\n",
       "\n",
       "    .dataframe thead th {\n",
       "        text-align: left;\n",
       "    }\n",
       "\n",
       "    .dataframe tbody tr th {\n",
       "        vertical-align: top;\n",
       "    }\n",
       "</style>\n",
       "<table border=\"1\" class=\"dataframe\">\n",
       "  <thead>\n",
       "    <tr style=\"text-align: right;\">\n",
       "      <th></th>\n",
       "      <th>City</th>\n",
       "      <th>Cloudiness</th>\n",
       "      <th>Country</th>\n",
       "      <th>Date</th>\n",
       "      <th>Humidity</th>\n",
       "      <th>Lat</th>\n",
       "      <th>Lng</th>\n",
       "      <th>Max Temp</th>\n",
       "      <th>Wind Speed</th>\n",
       "    </tr>\n",
       "  </thead>\n",
       "  <tbody>\n",
       "    <tr>\n",
       "      <th>0</th>\n",
       "      <td>Ambon</td>\n",
       "      <td>0</td>\n",
       "      <td>FR</td>\n",
       "      <td>1514842200</td>\n",
       "      <td>70</td>\n",
       "      <td>47.55</td>\n",
       "      <td>-2.56</td>\n",
       "      <td>48.20</td>\n",
       "      <td>12.75</td>\n",
       "    </tr>\n",
       "    <tr>\n",
       "      <th>1</th>\n",
       "      <td>Dombas</td>\n",
       "      <td>80</td>\n",
       "      <td>NO</td>\n",
       "      <td>1514843158</td>\n",
       "      <td>78</td>\n",
       "      <td>62.07</td>\n",
       "      <td>9.12</td>\n",
       "      <td>10.99</td>\n",
       "      <td>1.88</td>\n",
       "    </tr>\n",
       "    <tr>\n",
       "      <th>2</th>\n",
       "      <td>Carnarvon</td>\n",
       "      <td>0</td>\n",
       "      <td>ZA</td>\n",
       "      <td>1514843158</td>\n",
       "      <td>30</td>\n",
       "      <td>-30.97</td>\n",
       "      <td>22.13</td>\n",
       "      <td>56.53</td>\n",
       "      <td>9.04</td>\n",
       "    </tr>\n",
       "    <tr>\n",
       "      <th>3</th>\n",
       "      <td>Port Alfred</td>\n",
       "      <td>24</td>\n",
       "      <td>ZA</td>\n",
       "      <td>1514843159</td>\n",
       "      <td>84</td>\n",
       "      <td>-33.59</td>\n",
       "      <td>26.89</td>\n",
       "      <td>66.34</td>\n",
       "      <td>23.02</td>\n",
       "    </tr>\n",
       "    <tr>\n",
       "      <th>4</th>\n",
       "      <td>Hilo</td>\n",
       "      <td>90</td>\n",
       "      <td>US</td>\n",
       "      <td>1514840160</td>\n",
       "      <td>61</td>\n",
       "      <td>19.71</td>\n",
       "      <td>-155.08</td>\n",
       "      <td>77.00</td>\n",
       "      <td>6.93</td>\n",
       "    </tr>\n",
       "  </tbody>\n",
       "</table>\n",
       "</div>"
      ],
      "text/plain": [
       "          City  Cloudiness Country        Date  Humidity    Lat     Lng  \\\n",
       "0        Ambon           0      FR  1514842200        70  47.55   -2.56   \n",
       "1       Dombas          80      NO  1514843158        78  62.07    9.12   \n",
       "2    Carnarvon           0      ZA  1514843158        30 -30.97   22.13   \n",
       "3  Port Alfred          24      ZA  1514843159        84 -33.59   26.89   \n",
       "4         Hilo          90      US  1514840160        61  19.71 -155.08   \n",
       "\n",
       "   Max Temp  Wind Speed  \n",
       "0     48.20       12.75  \n",
       "1     10.99        1.88  \n",
       "2     56.53        9.04  \n",
       "3     66.34       23.02  \n",
       "4     77.00        6.93  "
      ]
     },
     "execution_count": 5,
     "metadata": {},
     "output_type": "execute_result"
    }
   ],
   "source": [
    "city_dataframe.head()"
   ]
  },
  {
   "cell_type": "markdown",
   "metadata": {},
   "source": [
    "# Lat vs Temp Plot"
   ]
  },
  {
   "cell_type": "code",
   "execution_count": 6,
   "metadata": {},
   "outputs": [
    {
     "data": {
      "image/png": "[encoded data removed]",
      "text/plain": [
       "<matplotlib.figure.Figure at 0x114e36ba8>"
      ]
     },
     "metadata": {},
     "output_type": "display_data"
    }
   ],
   "source": [
    "plt.scatter(lats, max_temp, edgecolor=\"black\", linewidths=1, alpha=0.8)\n",
    "plt.title(\"City Latitude vs. Max Temperature {}\".format(time.strftime(\"%x\")))\n",
    "plt.ylabel(\"Max Temperature (F)\")\n",
    "plt.xlabel(\"Latitude\")\n",
    "plt.grid(True)\n",
    "\n",
    "plt.savefig(\"latvstemp.png\")\n",
    "\n",
    "plt.show()"
   ]
  },
  {
   "cell_type": "markdown",
   "metadata": {},
   "source": [
    "# Lat vs Humidity Plot"
   ]
  },
  {
   "cell_type": "code",
   "execution_count": 18,
   "metadata": {},
   "outputs": [
    {
     "data": {
      "image/png": "[encoded data removed]",
      "text/plain": [
       "<matplotlib.figure.Figure at 0x1a1e8ed2e8>"
      ]
     },
     "metadata": {},
     "output_type": "display_data"
    }
   ],
   "source": [
    "plt.scatter(lats, humidity)\n",
    "plt.title(\"City Latitude vs Humidity {}\".format(time.strftime(\"%x\")))\n",
    "plt.ylabel(\"Humidity\")\n",
    "plt.xlabel(\"Latitude\")\n",
    "plt.grid(True)\n",
    "\n",
    "plt.savefig(\"latvshumidity.png\")\n",
    "\n",
    "plt.show()"
   ]
  },
  {
   "cell_type": "markdown",
   "metadata": {},
   "source": [
    "# Lat vs Wind Speed Plot"
   ]
  },
  {
   "cell_type": "code",
   "execution_count": 17,
   "metadata": {},
   "outputs": [
    {
     "data": {
      "image/png": "[encoded data removed]",
      "text/plain": [
       "<matplotlib.figure.Figure at 0x1a1eb40860>"
      ]
     },
     "metadata": {},
     "output_type": "display_data"
    }
   ],
   "source": [
    "plt.scatter(lats, wind_speed)\n",
    "plt.title(\"City Latitude vs Wind Speed {}\".format(time.strftime(\"%x\")))\n",
    "plt.ylabel(\"Wind Speed\")\n",
    "plt.xlabel(\"Latitude\")\n",
    "plt.grid(True)\n",
    "\n",
    "plt.savefig(\"latvswindspeed.png\")\n",
    "\n",
    "plt.show()"
   ]
  },
  {
   "cell_type": "markdown",
   "metadata": {},
   "source": [
    "# Lat vs Cloudiness Plot"
   ]
  },
  {
   "cell_type": "code",
   "execution_count": 16,
   "metadata": {},
   "outputs": [
    {
     "data": {
      "image/png": "[encoded data removed]",
      "text/plain": [
       "<matplotlib.figure.Figure at 0x1a1ed8c748>"
      ]
     },
     "metadata": {},
     "output_type": "display_data"
    }
   ],
   "source": [
    "plt.scatter(lats, cloudiness)\n",
    "plt.title(\"City Latitude vs Cloudiness {}\".format(time.strftime(\"%x\")))\n",
    "plt.ylabel(\"Cloudiness\")\n",
    "plt.xlabel(\"Latitude\")\n",
    "plt.grid(True)\n",
    "\n",
    "plt.savefig(\"latvscloudiness.png\")\n",
    "\n",
    "plt.show()"
   ]
  },
  {
   "cell_type": "code",
   "execution_count": null,
   "metadata": {},
   "outputs": [],
   "source": []
  }
 ],
 "metadata": {
  "kernelspec": {
   "display_name": "Python 3",
   "language": "python",
   "name": "python3"
  },
  "language_info": {
   "codemirror_mode": {
    "name": "ipython",
    "version": 3
   },
   "file_extension": ".py",
   "mimetype": "text/x-python",
   "name": "python",
   "nbconvert_exporter": "python",
   "pygments_lexer": "ipython3",
   "version": "3.6.3"
  }
 },
 "nbformat": 4,
 "nbformat_minor": 2
}
