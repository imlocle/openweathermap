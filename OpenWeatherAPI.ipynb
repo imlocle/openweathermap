{
 "cells": [
  {
   "cell_type": "markdown",
   "metadata": {},
   "source": [
    "Open Weather Map API"
   ]
  },
  {
   "cell_type": "code",
   "execution_count": 32,
   "metadata": {},
   "outputs": [],
   "source": [
    "from jupyterthemes import jtplot\n",
    "from citipy import citipy\n",
    "import matplotlib.pyplot as plt\n",
    "import pandas as pd\n",
    "import numpy as np\n",
    "import seaborn as sns\n",
    "import requests\n",
    "import time\n",
    "import urllib"
   ]
  },
  {
   "cell_type": "code",
   "execution_count": 35,
   "metadata": {
    "scrolled": true
   },
   "outputs": [
    {
     "name": "stdout",
     "output_type": "stream",
     "text": [
      "['Avarua', 'Bowen', 'Taolanaro', 'Kudahuvadhoo', 'Albany', 'Lillesand', 'Mataura', 'Port Macquarie', 'Punta Arenas', 'Trincomalee', 'Port Alfred', 'Ponta Do Sol', 'Puerto Ayora', 'Kapaa', 'Hobart', 'Busselton', 'Barentsburg', 'Codrington', 'East London', 'Umzimvubu', 'Hobart', 'Alofi', 'Hami', 'Belushya Guba', 'Tiksi', 'Atuona', 'Tabukiniberu', 'Morondava', 'Busselton', 'Nome', 'Tuktoyaktuk', 'Rio Grande', 'Sentyabrskiy', 'Riyadh', 'Banswara', 'Bluff', 'Pevek', 'Qaanaaq', 'Taolanaro', 'Lagoa', 'Zhigalovo', 'Puerto Ayora', 'Samarai', 'Isangel', 'Axim', 'Kismayo', 'Port Alfred', 'Barrow', 'Grand River South East', 'New Norfolk']\n"
     ]
    }
   ],
   "source": [
    "lat_range = (-90, 90)\n",
    "lon_range = (-180, -180)\n",
    "\n",
    "lat_lons = []\n",
    "cities = []\n",
    "\n",
    "#Random lat and long combinations\n",
    "lats = np.random.uniform(low=-90.000, high=90.000, size=1500)\n",
    "lons = np.random.uniform(low=-180.000, high=180.000, size=1500)\n",
    "lat_lons = zip(lats, lons)\n",
    "count_limit = 0\n",
    "\n",
    "for lat_lon in lat_lons:\n",
    "    city = citipy.nearest_city(lat_lon[0], lat_lon[1])\n",
    "    city = city.city_name\n",
    "    \n",
    "    #Unique city, add to cities list\n",
    "    if city not in cities:\n",
    "        #limiting to only 50 cities\n",
    "        if count_limit < 50:\n",
    "            #title capitalizes the cities\n",
    "            cities.append(city.title())\n",
    "            count_limit += 1\n",
    "        else:\n",
    "            break\n",
    "len(cities)\n",
    "print (cities)\n",
    "\n",
    "#Temperature (F) vs. Latitude\n",
    "#Humidity (%) vs. Latitude\n",
    "#Cloudiness (%) vs. Latitude\n",
    "#Wind Speed (mph) vs. Latitude\n",
    "#Your final notebook must:\n",
    "\n",
    "#Randomly select at least 50 unique (non-repeat) cities based on latitude and longitude.\n",
    "#Perform a weather check on each of the cities using a series of successive API calls.\n",
    "#Include a print log of each city as it's being processed with the city number, city name, and requested URL.\n",
    "#Save both a CSV of all data retrieved and png images for each scatter plot.\n"
   ]
  },
  {
   "cell_type": "code",
   "execution_count": 36,
   "metadata": {
    "scrolled": true
   },
   "outputs": [
    {
     "name": "stdout",
     "output_type": "stream",
     "text": [
      "1: City: Avarua\n",
      "http://api.openweathermap.org/data/2.5/weather?units=Imperial&APPID=64c31beb856520cc86ae3221ce851cdd&q=Avarua\n",
      "2: City: Bowen\n",
      "http://api.openweathermap.org/data/2.5/weather?units=Imperial&APPID=64c31beb856520cc86ae3221ce851cdd&q=Bowen\n",
      "3: City: Taolanaro\n",
      "http://api.openweathermap.org/data/2.5/weather?units=Imperial&APPID=64c31beb856520cc86ae3221ce851cdd&q=Taolanaro\n",
      "4: City: Kudahuvadhoo\n",
      "http://api.openweathermap.org/data/2.5/weather?units=Imperial&APPID=64c31beb856520cc86ae3221ce851cdd&q=Kudahuvadhoo\n",
      "5: City: Albany\n",
      "http://api.openweathermap.org/data/2.5/weather?units=Imperial&APPID=64c31beb856520cc86ae3221ce851cdd&q=Albany\n",
      "6: City: Lillesand\n",
      "http://api.openweathermap.org/data/2.5/weather?units=Imperial&APPID=64c31beb856520cc86ae3221ce851cdd&q=Lillesand\n",
      "7: City: Mataura\n",
      "http://api.openweathermap.org/data/2.5/weather?units=Imperial&APPID=64c31beb856520cc86ae3221ce851cdd&q=Mataura\n",
      "8: City: Port Macquarie\n",
      "http://api.openweathermap.org/data/2.5/weather?units=Imperial&APPID=64c31beb856520cc86ae3221ce851cdd&q=Port%20Macquarie\n",
      "9: City: Punta Arenas\n",
      "http://api.openweathermap.org/data/2.5/weather?units=Imperial&APPID=64c31beb856520cc86ae3221ce851cdd&q=Punta%20Arenas\n",
      "10: City: Trincomalee\n",
      "http://api.openweathermap.org/data/2.5/weather?units=Imperial&APPID=64c31beb856520cc86ae3221ce851cdd&q=Trincomalee\n",
      "11: City: Port Alfred\n",
      "http://api.openweathermap.org/data/2.5/weather?units=Imperial&APPID=64c31beb856520cc86ae3221ce851cdd&q=Port%20Alfred\n",
      "12: City: Ponta Do Sol\n",
      "http://api.openweathermap.org/data/2.5/weather?units=Imperial&APPID=64c31beb856520cc86ae3221ce851cdd&q=Ponta%20Do%20Sol\n",
      "13: City: Puerto Ayora\n",
      "http://api.openweathermap.org/data/2.5/weather?units=Imperial&APPID=64c31beb856520cc86ae3221ce851cdd&q=Puerto%20Ayora\n",
      "14: City: Kapaa\n",
      "http://api.openweathermap.org/data/2.5/weather?units=Imperial&APPID=64c31beb856520cc86ae3221ce851cdd&q=Kapaa\n",
      "15: City: Hobart\n",
      "http://api.openweathermap.org/data/2.5/weather?units=Imperial&APPID=64c31beb856520cc86ae3221ce851cdd&q=Hobart\n",
      "16: City: Busselton\n",
      "http://api.openweathermap.org/data/2.5/weather?units=Imperial&APPID=64c31beb856520cc86ae3221ce851cdd&q=Busselton\n",
      "17: City: Barentsburg\n",
      "http://api.openweathermap.org/data/2.5/weather?units=Imperial&APPID=64c31beb856520cc86ae3221ce851cdd&q=Barentsburg\n",
      "18: City: Codrington\n",
      "http://api.openweathermap.org/data/2.5/weather?units=Imperial&APPID=64c31beb856520cc86ae3221ce851cdd&q=Codrington\n",
      "19: City: East London\n",
      "http://api.openweathermap.org/data/2.5/weather?units=Imperial&APPID=64c31beb856520cc86ae3221ce851cdd&q=East%20London\n",
      "20: City: Umzimvubu\n",
      "http://api.openweathermap.org/data/2.5/weather?units=Imperial&APPID=64c31beb856520cc86ae3221ce851cdd&q=Umzimvubu\n",
      "21: City: Hobart\n",
      "http://api.openweathermap.org/data/2.5/weather?units=Imperial&APPID=64c31beb856520cc86ae3221ce851cdd&q=Hobart\n",
      "22: City: Alofi\n",
      "http://api.openweathermap.org/data/2.5/weather?units=Imperial&APPID=64c31beb856520cc86ae3221ce851cdd&q=Alofi\n",
      "23: City: Hami\n",
      "http://api.openweathermap.org/data/2.5/weather?units=Imperial&APPID=64c31beb856520cc86ae3221ce851cdd&q=Hami\n",
      "24: City: Belushya Guba\n",
      "http://api.openweathermap.org/data/2.5/weather?units=Imperial&APPID=64c31beb856520cc86ae3221ce851cdd&q=Belushya%20Guba\n",
      "25: City: Tiksi\n",
      "http://api.openweathermap.org/data/2.5/weather?units=Imperial&APPID=64c31beb856520cc86ae3221ce851cdd&q=Tiksi\n",
      "26: City: Atuona\n",
      "http://api.openweathermap.org/data/2.5/weather?units=Imperial&APPID=64c31beb856520cc86ae3221ce851cdd&q=Atuona\n",
      "27: City: Tabukiniberu\n",
      "http://api.openweathermap.org/data/2.5/weather?units=Imperial&APPID=64c31beb856520cc86ae3221ce851cdd&q=Tabukiniberu\n",
      "28: City: Morondava\n",
      "http://api.openweathermap.org/data/2.5/weather?units=Imperial&APPID=64c31beb856520cc86ae3221ce851cdd&q=Morondava\n",
      "29: City: Busselton\n",
      "http://api.openweathermap.org/data/2.5/weather?units=Imperial&APPID=64c31beb856520cc86ae3221ce851cdd&q=Busselton\n",
      "30: City: Nome\n",
      "http://api.openweathermap.org/data/2.5/weather?units=Imperial&APPID=64c31beb856520cc86ae3221ce851cdd&q=Nome\n",
      "31: City: Tuktoyaktuk\n",
      "http://api.openweathermap.org/data/2.5/weather?units=Imperial&APPID=64c31beb856520cc86ae3221ce851cdd&q=Tuktoyaktuk\n",
      "32: City: Rio Grande\n",
      "http://api.openweathermap.org/data/2.5/weather?units=Imperial&APPID=64c31beb856520cc86ae3221ce851cdd&q=Rio%20Grande\n",
      "33: City: Sentyabrskiy\n",
      "http://api.openweathermap.org/data/2.5/weather?units=Imperial&APPID=64c31beb856520cc86ae3221ce851cdd&q=Sentyabrskiy\n",
      "34: City: Riyadh\n",
      "http://api.openweathermap.org/data/2.5/weather?units=Imperial&APPID=64c31beb856520cc86ae3221ce851cdd&q=Riyadh\n",
      "35: City: Banswara\n",
      "http://api.openweathermap.org/data/2.5/weather?units=Imperial&APPID=64c31beb856520cc86ae3221ce851cdd&q=Banswara\n",
      "36: City: Bluff\n",
      "http://api.openweathermap.org/data/2.5/weather?units=Imperial&APPID=64c31beb856520cc86ae3221ce851cdd&q=Bluff\n",
      "37: City: Pevek\n",
      "http://api.openweathermap.org/data/2.5/weather?units=Imperial&APPID=64c31beb856520cc86ae3221ce851cdd&q=Pevek\n",
      "38: City: Qaanaaq\n",
      "http://api.openweathermap.org/data/2.5/weather?units=Imperial&APPID=64c31beb856520cc86ae3221ce851cdd&q=Qaanaaq\n",
      "39: City: Taolanaro\n",
      "http://api.openweathermap.org/data/2.5/weather?units=Imperial&APPID=64c31beb856520cc86ae3221ce851cdd&q=Taolanaro\n",
      "40: City: Lagoa\n",
      "http://api.openweathermap.org/data/2.5/weather?units=Imperial&APPID=64c31beb856520cc86ae3221ce851cdd&q=Lagoa\n",
      "41: City: Zhigalovo\n",
      "http://api.openweathermap.org/data/2.5/weather?units=Imperial&APPID=64c31beb856520cc86ae3221ce851cdd&q=Zhigalovo\n",
      "42: City: Puerto Ayora\n",
      "http://api.openweathermap.org/data/2.5/weather?units=Imperial&APPID=64c31beb856520cc86ae3221ce851cdd&q=Puerto%20Ayora\n",
      "43: City: Samarai\n",
      "http://api.openweathermap.org/data/2.5/weather?units=Imperial&APPID=64c31beb856520cc86ae3221ce851cdd&q=Samarai\n",
      "44: City: Isangel\n",
      "http://api.openweathermap.org/data/2.5/weather?units=Imperial&APPID=64c31beb856520cc86ae3221ce851cdd&q=Isangel\n",
      "45: City: Axim\n",
      "http://api.openweathermap.org/data/2.5/weather?units=Imperial&APPID=64c31beb856520cc86ae3221ce851cdd&q=Axim\n",
      "46: City: Kismayo\n",
      "http://api.openweathermap.org/data/2.5/weather?units=Imperial&APPID=64c31beb856520cc86ae3221ce851cdd&q=Kismayo\n",
      "47: City: Port Alfred\n",
      "http://api.openweathermap.org/data/2.5/weather?units=Imperial&APPID=64c31beb856520cc86ae3221ce851cdd&q=Port%20Alfred\n",
      "48: City: Barrow\n",
      "http://api.openweathermap.org/data/2.5/weather?units=Imperial&APPID=64c31beb856520cc86ae3221ce851cdd&q=Barrow\n",
      "49: City: Grand River South East\n",
      "http://api.openweathermap.org/data/2.5/weather?units=Imperial&APPID=64c31beb856520cc86ae3221ce851cdd&q=Grand%20River%20South%20East\n",
      "50: City: New Norfolk\n",
      "http://api.openweathermap.org/data/2.5/weather?units=Imperial&APPID=64c31beb856520cc86ae3221ce851cdd&q=New%20Norfolk\n",
      "[]\n"
     ]
    }
   ],
   "source": [
    "api_key = \"64c31beb856520cc86ae3221ce851cdd\"\n",
    "url = \"http://api.openweathermap.org/data/2.5/weather?units=Imperial&APPID=\" + api_key\n",
    "\n",
    "city_data = []\n",
    "city_count = 1\n",
    "\n",
    "#loop through all cities with count enumerate\n",
    "for city in cities:\n",
    "    city_url = url + \"&q=\" + urllib.request.pathname2url(city)  \n",
    "    print (\"{}: City: {}\".format(city_count, city))\n",
    "    print (city_url)\n",
    "    city_count += 1    \n",
    "        #Running API request for each cities\n",
    "    try:\n",
    "        # Parse the JSON and retrieve data\n",
    "        city_weather = requests.get(city_url).json()\n",
    "        # Parse out the max temp, humidity, and cloudiness\n",
    "        city_lat = city_weather[\"coord\"][\"lat\"]\n",
    "        city_lon = city_weather[\"coord\"][\"lon\"]\n",
    "        city_max_temp = city_weather[\"main\"][\"temp_max\"]\n",
    "        city_humidity = city_weather[\"main\"][\"humidity\"]\n",
    "        city_clouds = city_weather[\"clouds\"][\"all\"]\n",
    "        city_wind = city_weather[\"wind\"][\"speed\"]\n",
    "        city_country = city_weather[\"sys\"][\"country\"]\n",
    "        city_date = city_weather[\"dt\"]\n",
    "\n",
    "        # Append the City information into city_data list\n",
    "        city_data.append({\"City\": city,\n",
    "                          \"Lat\": city_lat,\n",
    "                          \"Lng\": city_lon,\n",
    "                          \"Max Temp\": city_max_temp,\n",
    "                          \"Humidity\": city_humidity,\n",
    "                          \"Cloudiness\": city_clouds,\n",
    "                          \"Wind Speed\": city_wind,\n",
    "                          \"Country\": city_country,\n",
    "                          \"Date\": city_date})\n",
    "\n",
    "    # If error, skip the city\n",
    "    except:\n",
    "        pass\n",
    "print (city_data)"
   ]
  },
  {
   "cell_type": "code",
   "execution_count": 29,
   "metadata": {},
   "outputs": [
    {
     "ename": "KeyError",
     "evalue": "'Lat'",
     "output_type": "error",
     "traceback": [
      "\u001b[0;31m---------------------------------------------------------------------------\u001b[0m",
      "\u001b[0;31mKeyError\u001b[0m                                  Traceback (most recent call last)",
      "\u001b[0;32m~/anaconda3/lib/python3.6/site-packages/pandas/core/indexes/base.py\u001b[0m in \u001b[0;36mget_loc\u001b[0;34m(self, key, method, tolerance)\u001b[0m\n\u001b[1;32m   2441\u001b[0m             \u001b[0;32mtry\u001b[0m\u001b[0;34m:\u001b[0m\u001b[0;34m\u001b[0m\u001b[0m\n\u001b[0;32m-> 2442\u001b[0;31m                 \u001b[0;32mreturn\u001b[0m \u001b[0mself\u001b[0m\u001b[0;34m.\u001b[0m\u001b[0m_engine\u001b[0m\u001b[0;34m.\u001b[0m\u001b[0mget_loc\u001b[0m\u001b[0;34m(\u001b[0m\u001b[0mkey\u001b[0m\u001b[0;34m)\u001b[0m\u001b[0;34m\u001b[0m\u001b[0m\n\u001b[0m\u001b[1;32m   2443\u001b[0m             \u001b[0;32mexcept\u001b[0m \u001b[0mKeyError\u001b[0m\u001b[0;34m:\u001b[0m\u001b[0;34m\u001b[0m\u001b[0m\n",
      "\u001b[0;32mpandas/_libs/index.pyx\u001b[0m in \u001b[0;36mpandas._libs.index.IndexEngine.get_loc\u001b[0;34m()\u001b[0m\n",
      "\u001b[0;32mpandas/_libs/index.pyx\u001b[0m in \u001b[0;36mpandas._libs.index.IndexEngine.get_loc\u001b[0;34m()\u001b[0m\n",
      "\u001b[0;32mpandas/_libs/hashtable_class_helper.pxi\u001b[0m in \u001b[0;36mpandas._libs.hashtable.PyObjectHashTable.get_item\u001b[0;34m()\u001b[0m\n",
      "\u001b[0;32mpandas/_libs/hashtable_class_helper.pxi\u001b[0m in \u001b[0;36mpandas._libs.hashtable.PyObjectHashTable.get_item\u001b[0;34m()\u001b[0m\n",
      "\u001b[0;31mKeyError\u001b[0m: 'Lat'",
      "\nDuring handling of the above exception, another exception occurred:\n",
      "\u001b[0;31mKeyError\u001b[0m                                  Traceback (most recent call last)",
      "\u001b[0;32m<ipython-input-29-b3ba9cf235b7>\u001b[0m in \u001b[0;36m<module>\u001b[0;34m()\u001b[0m\n\u001b[1;32m      3\u001b[0m \u001b[0;34m\u001b[0m\u001b[0m\n\u001b[1;32m      4\u001b[0m \u001b[0;31m#Extracting fields from DF\u001b[0m\u001b[0;34m\u001b[0m\u001b[0;34m\u001b[0m\u001b[0m\n\u001b[0;32m----> 5\u001b[0;31m \u001b[0mlats\u001b[0m \u001b[0;34m=\u001b[0m \u001b[0mcity_dataframe\u001b[0m\u001b[0;34m[\u001b[0m\u001b[0;34m\"Lat\"\u001b[0m\u001b[0;34m]\u001b[0m\u001b[0;34m\u001b[0m\u001b[0m\n\u001b[0m\u001b[1;32m      6\u001b[0m \u001b[0mmax_temp\u001b[0m \u001b[0;34m=\u001b[0m \u001b[0mcity_dataframe\u001b[0m\u001b[0;34m[\u001b[0m\u001b[0;34m\"Max Temp\"\u001b[0m\u001b[0;34m]\u001b[0m\u001b[0;34m\u001b[0m\u001b[0m\n\u001b[1;32m      7\u001b[0m \u001b[0mhumidity\u001b[0m \u001b[0;34m=\u001b[0m \u001b[0mcity_dataframe\u001b[0m\u001b[0;34m[\u001b[0m\u001b[0;34m\"Humidity\"\u001b[0m\u001b[0;34m]\u001b[0m\u001b[0;34m\u001b[0m\u001b[0m\n",
      "\u001b[0;32m~/anaconda3/lib/python3.6/site-packages/pandas/core/frame.py\u001b[0m in \u001b[0;36m__getitem__\u001b[0;34m(self, key)\u001b[0m\n\u001b[1;32m   1962\u001b[0m             \u001b[0;32mreturn\u001b[0m \u001b[0mself\u001b[0m\u001b[0;34m.\u001b[0m\u001b[0m_getitem_multilevel\u001b[0m\u001b[0;34m(\u001b[0m\u001b[0mkey\u001b[0m\u001b[0;34m)\u001b[0m\u001b[0;34m\u001b[0m\u001b[0m\n\u001b[1;32m   1963\u001b[0m         \u001b[0;32melse\u001b[0m\u001b[0;34m:\u001b[0m\u001b[0;34m\u001b[0m\u001b[0m\n\u001b[0;32m-> 1964\u001b[0;31m             \u001b[0;32mreturn\u001b[0m \u001b[0mself\u001b[0m\u001b[0;34m.\u001b[0m\u001b[0m_getitem_column\u001b[0m\u001b[0;34m(\u001b[0m\u001b[0mkey\u001b[0m\u001b[0;34m)\u001b[0m\u001b[0;34m\u001b[0m\u001b[0m\n\u001b[0m\u001b[1;32m   1965\u001b[0m \u001b[0;34m\u001b[0m\u001b[0m\n\u001b[1;32m   1966\u001b[0m     \u001b[0;32mdef\u001b[0m \u001b[0m_getitem_column\u001b[0m\u001b[0;34m(\u001b[0m\u001b[0mself\u001b[0m\u001b[0;34m,\u001b[0m \u001b[0mkey\u001b[0m\u001b[0;34m)\u001b[0m\u001b[0;34m:\u001b[0m\u001b[0;34m\u001b[0m\u001b[0m\n",
      "\u001b[0;32m~/anaconda3/lib/python3.6/site-packages/pandas/core/frame.py\u001b[0m in \u001b[0;36m_getitem_column\u001b[0;34m(self, key)\u001b[0m\n\u001b[1;32m   1969\u001b[0m         \u001b[0;31m# get column\u001b[0m\u001b[0;34m\u001b[0m\u001b[0;34m\u001b[0m\u001b[0m\n\u001b[1;32m   1970\u001b[0m         \u001b[0;32mif\u001b[0m \u001b[0mself\u001b[0m\u001b[0;34m.\u001b[0m\u001b[0mcolumns\u001b[0m\u001b[0;34m.\u001b[0m\u001b[0mis_unique\u001b[0m\u001b[0;34m:\u001b[0m\u001b[0;34m\u001b[0m\u001b[0m\n\u001b[0;32m-> 1971\u001b[0;31m             \u001b[0;32mreturn\u001b[0m \u001b[0mself\u001b[0m\u001b[0;34m.\u001b[0m\u001b[0m_get_item_cache\u001b[0m\u001b[0;34m(\u001b[0m\u001b[0mkey\u001b[0m\u001b[0;34m)\u001b[0m\u001b[0;34m\u001b[0m\u001b[0m\n\u001b[0m\u001b[1;32m   1972\u001b[0m \u001b[0;34m\u001b[0m\u001b[0m\n\u001b[1;32m   1973\u001b[0m         \u001b[0;31m# duplicate columns & possible reduce dimensionality\u001b[0m\u001b[0;34m\u001b[0m\u001b[0;34m\u001b[0m\u001b[0m\n",
      "\u001b[0;32m~/anaconda3/lib/python3.6/site-packages/pandas/core/generic.py\u001b[0m in \u001b[0;36m_get_item_cache\u001b[0;34m(self, item)\u001b[0m\n\u001b[1;32m   1643\u001b[0m         \u001b[0mres\u001b[0m \u001b[0;34m=\u001b[0m \u001b[0mcache\u001b[0m\u001b[0;34m.\u001b[0m\u001b[0mget\u001b[0m\u001b[0;34m(\u001b[0m\u001b[0mitem\u001b[0m\u001b[0;34m)\u001b[0m\u001b[0;34m\u001b[0m\u001b[0m\n\u001b[1;32m   1644\u001b[0m         \u001b[0;32mif\u001b[0m \u001b[0mres\u001b[0m \u001b[0;32mis\u001b[0m \u001b[0;32mNone\u001b[0m\u001b[0;34m:\u001b[0m\u001b[0;34m\u001b[0m\u001b[0m\n\u001b[0;32m-> 1645\u001b[0;31m             \u001b[0mvalues\u001b[0m \u001b[0;34m=\u001b[0m \u001b[0mself\u001b[0m\u001b[0;34m.\u001b[0m\u001b[0m_data\u001b[0m\u001b[0;34m.\u001b[0m\u001b[0mget\u001b[0m\u001b[0;34m(\u001b[0m\u001b[0mitem\u001b[0m\u001b[0;34m)\u001b[0m\u001b[0;34m\u001b[0m\u001b[0m\n\u001b[0m\u001b[1;32m   1646\u001b[0m             \u001b[0mres\u001b[0m \u001b[0;34m=\u001b[0m \u001b[0mself\u001b[0m\u001b[0;34m.\u001b[0m\u001b[0m_box_item_values\u001b[0m\u001b[0;34m(\u001b[0m\u001b[0mitem\u001b[0m\u001b[0;34m,\u001b[0m \u001b[0mvalues\u001b[0m\u001b[0;34m)\u001b[0m\u001b[0;34m\u001b[0m\u001b[0m\n\u001b[1;32m   1647\u001b[0m             \u001b[0mcache\u001b[0m\u001b[0;34m[\u001b[0m\u001b[0mitem\u001b[0m\u001b[0;34m]\u001b[0m \u001b[0;34m=\u001b[0m \u001b[0mres\u001b[0m\u001b[0;34m\u001b[0m\u001b[0m\n",
      "\u001b[0;32m~/anaconda3/lib/python3.6/site-packages/pandas/core/internals.py\u001b[0m in \u001b[0;36mget\u001b[0;34m(self, item, fastpath)\u001b[0m\n\u001b[1;32m   3588\u001b[0m \u001b[0;34m\u001b[0m\u001b[0m\n\u001b[1;32m   3589\u001b[0m             \u001b[0;32mif\u001b[0m \u001b[0;32mnot\u001b[0m \u001b[0misnull\u001b[0m\u001b[0;34m(\u001b[0m\u001b[0mitem\u001b[0m\u001b[0;34m)\u001b[0m\u001b[0;34m:\u001b[0m\u001b[0;34m\u001b[0m\u001b[0m\n\u001b[0;32m-> 3590\u001b[0;31m                 \u001b[0mloc\u001b[0m \u001b[0;34m=\u001b[0m \u001b[0mself\u001b[0m\u001b[0;34m.\u001b[0m\u001b[0mitems\u001b[0m\u001b[0;34m.\u001b[0m\u001b[0mget_loc\u001b[0m\u001b[0;34m(\u001b[0m\u001b[0mitem\u001b[0m\u001b[0;34m)\u001b[0m\u001b[0;34m\u001b[0m\u001b[0m\n\u001b[0m\u001b[1;32m   3591\u001b[0m             \u001b[0;32melse\u001b[0m\u001b[0;34m:\u001b[0m\u001b[0;34m\u001b[0m\u001b[0m\n\u001b[1;32m   3592\u001b[0m                 \u001b[0mindexer\u001b[0m \u001b[0;34m=\u001b[0m \u001b[0mnp\u001b[0m\u001b[0;34m.\u001b[0m\u001b[0marange\u001b[0m\u001b[0;34m(\u001b[0m\u001b[0mlen\u001b[0m\u001b[0;34m(\u001b[0m\u001b[0mself\u001b[0m\u001b[0;34m.\u001b[0m\u001b[0mitems\u001b[0m\u001b[0;34m)\u001b[0m\u001b[0;34m)\u001b[0m\u001b[0;34m[\u001b[0m\u001b[0misnull\u001b[0m\u001b[0;34m(\u001b[0m\u001b[0mself\u001b[0m\u001b[0;34m.\u001b[0m\u001b[0mitems\u001b[0m\u001b[0;34m)\u001b[0m\u001b[0;34m]\u001b[0m\u001b[0;34m\u001b[0m\u001b[0m\n",
      "\u001b[0;32m~/anaconda3/lib/python3.6/site-packages/pandas/core/indexes/base.py\u001b[0m in \u001b[0;36mget_loc\u001b[0;34m(self, key, method, tolerance)\u001b[0m\n\u001b[1;32m   2442\u001b[0m                 \u001b[0;32mreturn\u001b[0m \u001b[0mself\u001b[0m\u001b[0;34m.\u001b[0m\u001b[0m_engine\u001b[0m\u001b[0;34m.\u001b[0m\u001b[0mget_loc\u001b[0m\u001b[0;34m(\u001b[0m\u001b[0mkey\u001b[0m\u001b[0;34m)\u001b[0m\u001b[0;34m\u001b[0m\u001b[0m\n\u001b[1;32m   2443\u001b[0m             \u001b[0;32mexcept\u001b[0m \u001b[0mKeyError\u001b[0m\u001b[0;34m:\u001b[0m\u001b[0;34m\u001b[0m\u001b[0m\n\u001b[0;32m-> 2444\u001b[0;31m                 \u001b[0;32mreturn\u001b[0m \u001b[0mself\u001b[0m\u001b[0;34m.\u001b[0m\u001b[0m_engine\u001b[0m\u001b[0;34m.\u001b[0m\u001b[0mget_loc\u001b[0m\u001b[0;34m(\u001b[0m\u001b[0mself\u001b[0m\u001b[0;34m.\u001b[0m\u001b[0m_maybe_cast_indexer\u001b[0m\u001b[0;34m(\u001b[0m\u001b[0mkey\u001b[0m\u001b[0;34m)\u001b[0m\u001b[0;34m)\u001b[0m\u001b[0;34m\u001b[0m\u001b[0m\n\u001b[0m\u001b[1;32m   2445\u001b[0m \u001b[0;34m\u001b[0m\u001b[0m\n\u001b[1;32m   2446\u001b[0m         \u001b[0mindexer\u001b[0m \u001b[0;34m=\u001b[0m \u001b[0mself\u001b[0m\u001b[0;34m.\u001b[0m\u001b[0mget_indexer\u001b[0m\u001b[0;34m(\u001b[0m\u001b[0;34m[\u001b[0m\u001b[0mkey\u001b[0m\u001b[0;34m]\u001b[0m\u001b[0;34m,\u001b[0m \u001b[0mmethod\u001b[0m\u001b[0;34m=\u001b[0m\u001b[0mmethod\u001b[0m\u001b[0;34m,\u001b[0m \u001b[0mtolerance\u001b[0m\u001b[0;34m=\u001b[0m\u001b[0mtolerance\u001b[0m\u001b[0;34m)\u001b[0m\u001b[0;34m\u001b[0m\u001b[0m\n",
      "\u001b[0;32mpandas/_libs/index.pyx\u001b[0m in \u001b[0;36mpandas._libs.index.IndexEngine.get_loc\u001b[0;34m()\u001b[0m\n",
      "\u001b[0;32mpandas/_libs/index.pyx\u001b[0m in \u001b[0;36mpandas._libs.index.IndexEngine.get_loc\u001b[0;34m()\u001b[0m\n",
      "\u001b[0;32mpandas/_libs/hashtable_class_helper.pxi\u001b[0m in \u001b[0;36mpandas._libs.hashtable.PyObjectHashTable.get_item\u001b[0;34m()\u001b[0m\n",
      "\u001b[0;32mpandas/_libs/hashtable_class_helper.pxi\u001b[0m in \u001b[0;36mpandas._libs.hashtable.PyObjectHashTable.get_item\u001b[0;34m()\u001b[0m\n",
      "\u001b[0;31mKeyError\u001b[0m: 'Lat'"
     ]
    }
   ],
   "source": [
    "#Converting data to Pandas DataFrame\n",
    "city_dataframe = pd.DataFrame(city_data)\n",
    "\n",
    "#Extracting fields from DF\n",
    "lats = city_dataframe[\"Lat\"]\n",
    "max_temp = city_dataframe[\"Max Temp\"]\n",
    "humidity = city_dataframe[\"Humidity\"]\n",
    "cloudiness = city_dataframe[\"Cloudiness\"]\n",
    "wind_speed = city_dataframe[\"Wind Speed\"]\n",
    "\n",
    "#Saving/Export the City Data to CSV\n",
    "city_dataframe.to_csv(\"weather_py_df.csv\",index=False)\n",
    "\n",
    "city_dataframe.count()"
   ]
  },
  {
   "cell_type": "code",
   "execution_count": null,
   "metadata": {},
   "outputs": [],
   "source": [
    "city_dataframe.head()"
   ]
  },
  {
   "cell_type": "markdown",
   "metadata": {},
   "source": [
    "# Lat vs Temp Plot"
   ]
  },
  {
   "cell_type": "code",
   "execution_count": 30,
   "metadata": {},
   "outputs": [
    {
     "ename": "NameError",
     "evalue": "name 'max_temp' is not defined",
     "output_type": "error",
     "traceback": [
      "\u001b[0;31m---------------------------------------------------------------------------\u001b[0m",
      "\u001b[0;31mNameError\u001b[0m                                 Traceback (most recent call last)",
      "\u001b[0;32m<ipython-input-30-426b88311867>\u001b[0m in \u001b[0;36m<module>\u001b[0;34m()\u001b[0m\n\u001b[0;32m----> 1\u001b[0;31m \u001b[0mplt\u001b[0m\u001b[0;34m.\u001b[0m\u001b[0mscatter\u001b[0m\u001b[0;34m(\u001b[0m\u001b[0mlats\u001b[0m\u001b[0;34m,\u001b[0m \u001b[0mmax_temp\u001b[0m\u001b[0;34m,\u001b[0m \u001b[0medgecolor\u001b[0m\u001b[0;34m=\u001b[0m\u001b[0;34m\"black\"\u001b[0m\u001b[0;34m,\u001b[0m \u001b[0mlinewidths\u001b[0m\u001b[0;34m=\u001b[0m\u001b[0;36m1\u001b[0m\u001b[0;34m,\u001b[0m \u001b[0malpha\u001b[0m\u001b[0;34m=\u001b[0m\u001b[0;36m0.8\u001b[0m\u001b[0;34m)\u001b[0m\u001b[0;34m\u001b[0m\u001b[0m\n\u001b[0m\u001b[1;32m      2\u001b[0m \u001b[0mplt\u001b[0m\u001b[0;34m.\u001b[0m\u001b[0mtitle\u001b[0m\u001b[0;34m(\u001b[0m\u001b[0;34m\"City Latitude vs. Max Temperature {}\"\u001b[0m\u001b[0;34m.\u001b[0m\u001b[0mformat\u001b[0m\u001b[0;34m(\u001b[0m\u001b[0mtime\u001b[0m\u001b[0;34m.\u001b[0m\u001b[0mstrftime\u001b[0m\u001b[0;34m(\u001b[0m\u001b[0;34m\"%x\"\u001b[0m\u001b[0;34m)\u001b[0m\u001b[0;34m)\u001b[0m\u001b[0;34m)\u001b[0m\u001b[0;34m\u001b[0m\u001b[0m\n\u001b[1;32m      3\u001b[0m \u001b[0mplt\u001b[0m\u001b[0;34m.\u001b[0m\u001b[0mylabel\u001b[0m\u001b[0;34m(\u001b[0m\u001b[0;34m\"Max Temperature (F)\"\u001b[0m\u001b[0;34m)\u001b[0m\u001b[0;34m\u001b[0m\u001b[0m\n\u001b[1;32m      4\u001b[0m \u001b[0mplt\u001b[0m\u001b[0;34m.\u001b[0m\u001b[0mxlabel\u001b[0m\u001b[0;34m(\u001b[0m\u001b[0;34m\"Latitude\"\u001b[0m\u001b[0;34m)\u001b[0m\u001b[0;34m\u001b[0m\u001b[0m\n\u001b[1;32m      5\u001b[0m \u001b[0mplt\u001b[0m\u001b[0;34m.\u001b[0m\u001b[0mgrid\u001b[0m\u001b[0;34m(\u001b[0m\u001b[0;32mTrue\u001b[0m\u001b[0;34m)\u001b[0m\u001b[0;34m\u001b[0m\u001b[0m\n",
      "\u001b[0;31mNameError\u001b[0m: name 'max_temp' is not defined"
     ]
    }
   ],
   "source": [
    "plt.scatter(lats, max_temp, edgecolor=\"black\", linewidths=1, alpha=0.8)\n",
    "plt.title(\"City Latitude vs. Max Temperature {}\".format(time.strftime(\"%x\")))\n",
    "plt.ylabel(\"Max Temperature (F)\")\n",
    "plt.xlabel(\"Latitude\")\n",
    "plt.grid(True)\n",
    "\n",
    "plt.savefig(\"latvstemp.png\")\n",
    "\n",
    "plt.show()"
   ]
  },
  {
   "cell_type": "code",
   "execution_count": null,
   "metadata": {},
   "outputs": [],
   "source": []
  }
 ],
 "metadata": {
  "kernelspec": {
   "display_name": "Python 3",
   "language": "python",
   "name": "python3"
  },
  "language_info": {
   "codemirror_mode": {
    "name": "ipython",
    "version": 3
   },
   "file_extension": ".py",
   "mimetype": "text/x-python",
   "name": "python",
   "nbconvert_exporter": "python",
   "pygments_lexer": "ipython3",
   "version": "3.6.3"
  }
 },
 "nbformat": 4,
 "nbformat_minor": 2
}
